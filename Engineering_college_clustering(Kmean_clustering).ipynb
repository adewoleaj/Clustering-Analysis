{
  "cells": [
    {
      "cell_type": "markdown",
      "metadata": {
        "id": "hiF1Kk8odunc"
      },
      "source": [
        "<center><img src=\"https://images.pexels.com/photos/1454360/pexels-photo-1454360.jpeg?auto=compress&cs=tinysrgb&w=1260&h=750&dpr=2\" width=\"400\" height=\"300\"></center>\n",
        "\n",
        "<b><h2><center>Engineering Colleges Case Study</center></h2></b>"
      ]
    },
    {
      "cell_type": "markdown",
      "metadata": {
        "id": "l5l5rzrmdKwB"
      },
      "source": [
        "## Problem Statement"
      ]
    },
    {
      "cell_type": "markdown",
      "metadata": {
        "id": "oy_mEAJ8dKwE"
      },
      "source": [
        "### Context\n",
        "\n",
        "Education is fast becoming a very competitive sector with hundreds of institutions to choose from. It is a life-transforming experience for any student and it has to be a thoughtful decision. There are ranking agencies that do a survey of all the colleges to provide more insights to students. Agency RankForYou wants to leverage this year's survey to roll out an editorial article in leading newspapers, on the state of engineering education in the country. Head of PR (Public Relations) comes to you, the data scientist working at RankForYou, and asks you to come up with evidence-based insights for that article.\n",
        "\n",
        "### Objective\n",
        "\n",
        "As a data scientist working at RankForYou, you have been asked to identify the different types of engineering colleges in the country to better understand the state of affairs. The key questions that need to be answered are:\n",
        "- How many different types (clusters/segments) of colleges can be found from the data?\n",
        "- How do these different groups of colleges differ from each other?\n",
        "- Do you get slightly different solutions from two different techniques? How would you explain the difference?\n",
        "\n",
        "\n",
        "### Data Description\n",
        "\n",
        "The data contains survey results for 26 engineering colleges. The initial survey data has been summarized into a rating scale of 1-5 for different factors.\n",
        "\n",
        "**Factor rating index**\n",
        " - 1 - Very low\n",
        " - 2 - Low\n",
        " - 3 - Medium\n",
        " - 4 - High\n",
        " - 5 - Very high\n",
        "\n",
        "**Data Dictionary**\n",
        "\n",
        " - Engg_College: 26 Engineering colleges with pseudonyms A to Z\n",
        " - Teaching: Quality of teaching at the engineering college\n",
        " - Fees: Fees at the engineering college\n",
        " - Placements: Job placements after a student graduates from the engineering college\n",
        " - Internship: Student Internships at the engineering college\n",
        " - Infrastructure: Infrastructure of the engineering college"
      ]
    },
    {
      "cell_type": "markdown",
      "metadata": {
        "id": "D_9DAnaEdKwG"
      },
      "source": [
        "## Importing necessary libraries"
      ]
    },
    {
      "cell_type": "code",
      "execution_count": null,
      "metadata": {
        "id": "vKLykkTPdKwG"
      },
      "outputs": [],
      "source": [
        "# Libraries to help with reading and manipulating data\n",
        "import numpy as np\n",
        "import pandas as pd\n",
        "\n",
        "# Libraries to help with data visualization\n",
        "import matplotlib.pyplot as plt\n",
        "import seaborn as sns\n",
        "\n",
        "# to scale the data using z-score\n",
        "from sklearn.preprocessing import StandardScaler\n",
        "\n",
        "# to compute distances\n",
        "from scipy.spatial.distance import cdist\n",
        "\n",
        "# to perform k-means clustering and compute silhouette scores\n",
        "from sklearn.cluster import KMeans\n",
        "from sklearn.metrics import silhouette_score\n",
        "\n",
        "# to visualize the elbow curve and silhouette scores\n",
        "from yellowbrick.cluster import KElbowVisualizer, SilhouetteVisualizer"
      ]
    },
    {
      "cell_type": "markdown",
      "metadata": {
        "id": "txUg8CZNeWvM"
      },
      "source": [
        "## Reading the Dataset"
      ]
    },
    {
      "cell_type": "code",
      "source": [
        "from google.colab import drive\n",
        "drive.mount(\"/content/drive\")"
      ],
      "metadata": {
        "colab": {
          "base_uri": "https://localhost:8080/"
        },
        "id": "aT1l6UxrXWbE",
        "outputId": "e4321b47-4246-45cc-cdd0-5f58ba53f086"
      },
      "execution_count": null,
      "outputs": [
        {
          "output_type": "stream",
          "name": "stdout",
          "text": [
            "Drive already mounted at /content/drive; to attempt to forcibly remount, call drive.mount(\"/content/drive\", force_remount=True).\n"
          ]
        }
      ]
    },
    {
      "cell_type": "code",
      "execution_count": null,
      "metadata": {
        "id": "TxInnBmZdKwI"
      },
      "outputs": [],
      "source": [
        "# loading the dataset\n",
        "data = pd.read_csv(\"/content/drive/MyDrive/data science /hull online/Ailead/ML /Unsupervise learning /Engineering_Colleges.csv\")"
      ]
    },
    {
      "cell_type": "markdown",
      "metadata": {
        "id": "nevPnTEFeZoD"
      },
      "source": [
        "## Overview of Data preprocessing set"
      ]
    },
    {
      "cell_type": "markdown",
      "metadata": {
        "id": "KhQ6GWxHWdBh"
      },
      "source": [
        "The initial steps to get an overview of any dataset is to:\n",
        "- observe the first few rows of the dataset, to check whether the dataset has been loaded properly or not\n",
        "- get information about the number of rows and columns in the dataset\n",
        "- find out the data types of the columns to ensure that data is stored in the preferred format and the value of each property is as expected.\n",
        "- check the statistical summary of the dataset to get an overview of the numerical columns of the data"
      ]
    },
    {
      "cell_type": "markdown",
      "metadata": {
        "id": "Bdi1886yWkZH"
      },
      "source": [
        "### Checking the shape of the dataset"
      ]
    },
    {
      "cell_type": "code",
      "execution_count": null,
      "metadata": {
        "colab": {
          "base_uri": "https://localhost:8080/"
        },
        "id": "pV8BwJAmdKwI",
        "outputId": "5a17caee-14d6-4dc2-ee73-24978202caa0",
        "scrolled": true
      },
      "outputs": [
        {
          "output_type": "execute_result",
          "data": {
            "text/plain": [
              "(26, 6)"
            ]
          },
          "metadata": {},
          "execution_count": 23
        }
      ],
      "source": [
        "data.shape"
      ]
    },
    {
      "cell_type": "markdown",
      "metadata": {
        "id": "Odpf_0HRdKwJ"
      },
      "source": [
        "* The dataset has 26 rows and 7 columns"
      ]
    },
    {
      "cell_type": "markdown",
      "metadata": {
        "id": "PdJ_cSpBXQ_E"
      },
      "source": [
        "### Displaying few rows of the dataset"
      ]
    },
    {
      "cell_type": "code",
      "execution_count": null,
      "metadata": {
        "colab": {
          "base_uri": "https://localhost:8080/",
          "height": 206
        },
        "id": "2lHbuxaPdKwJ",
        "outputId": "9595f7f8-b3ea-4dfe-8f3c-4fc98071c977"
      },
      "outputs": [
        {
          "output_type": "execute_result",
          "data": {
            "text/plain": [
              "    SR_NO Engg_College  Teaching  Fees  Placements  Infrastructure\n",
              "18     19            S         3     5           4               3\n",
              "7       8            H         4     4           5               5\n",
              "17     18            R         3     4           4               3\n",
              "19     20            T         3     5           3               3\n",
              "1       2            B         4     2           5               3"
            ],
            "text/html": [
              "\n",
              "  <div id=\"df-0094f54b-c8e6-4477-a4f4-791799506862\" class=\"colab-df-container\">\n",
              "    <div>\n",
              "<style scoped>\n",
              "    .dataframe tbody tr th:only-of-type {\n",
              "        vertical-align: middle;\n",
              "    }\n",
              "\n",
              "    .dataframe tbody tr th {\n",
              "        vertical-align: top;\n",
              "    }\n",
              "\n",
              "    .dataframe thead th {\n",
              "        text-align: right;\n",
              "    }\n",
              "</style>\n",
              "<table border=\"1\" class=\"dataframe\">\n",
              "  <thead>\n",
              "    <tr style=\"text-align: right;\">\n",
              "      <th></th>\n",
              "      <th>SR_NO</th>\n",
              "      <th>Engg_College</th>\n",
              "      <th>Teaching</th>\n",
              "      <th>Fees</th>\n",
              "      <th>Placements</th>\n",
              "      <th>Infrastructure</th>\n",
              "    </tr>\n",
              "  </thead>\n",
              "  <tbody>\n",
              "    <tr>\n",
              "      <th>18</th>\n",
              "      <td>19</td>\n",
              "      <td>S</td>\n",
              "      <td>3</td>\n",
              "      <td>5</td>\n",
              "      <td>4</td>\n",
              "      <td>3</td>\n",
              "    </tr>\n",
              "    <tr>\n",
              "      <th>7</th>\n",
              "      <td>8</td>\n",
              "      <td>H</td>\n",
              "      <td>4</td>\n",
              "      <td>4</td>\n",
              "      <td>5</td>\n",
              "      <td>5</td>\n",
              "    </tr>\n",
              "    <tr>\n",
              "      <th>17</th>\n",
              "      <td>18</td>\n",
              "      <td>R</td>\n",
              "      <td>3</td>\n",
              "      <td>4</td>\n",
              "      <td>4</td>\n",
              "      <td>3</td>\n",
              "    </tr>\n",
              "    <tr>\n",
              "      <th>19</th>\n",
              "      <td>20</td>\n",
              "      <td>T</td>\n",
              "      <td>3</td>\n",
              "      <td>5</td>\n",
              "      <td>3</td>\n",
              "      <td>3</td>\n",
              "    </tr>\n",
              "    <tr>\n",
              "      <th>1</th>\n",
              "      <td>2</td>\n",
              "      <td>B</td>\n",
              "      <td>4</td>\n",
              "      <td>2</td>\n",
              "      <td>5</td>\n",
              "      <td>3</td>\n",
              "    </tr>\n",
              "  </tbody>\n",
              "</table>\n",
              "</div>\n",
              "    <div class=\"colab-df-buttons\">\n",
              "\n",
              "  <div class=\"colab-df-container\">\n",
              "    <button class=\"colab-df-convert\" onclick=\"convertToInteractive('df-0094f54b-c8e6-4477-a4f4-791799506862')\"\n",
              "            title=\"Convert this dataframe to an interactive table.\"\n",
              "            style=\"display:none;\">\n",
              "\n",
              "  <svg xmlns=\"http://www.w3.org/2000/svg\" height=\"24px\" viewBox=\"0 -960 960 960\">\n",
              "    <path d=\"M120-120v-720h720v720H120Zm60-500h600v-160H180v160Zm220 220h160v-160H400v160Zm0 220h160v-160H400v160ZM180-400h160v-160H180v160Zm440 0h160v-160H620v160ZM180-180h160v-160H180v160Zm440 0h160v-160H620v160Z\"/>\n",
              "  </svg>\n",
              "    </button>\n",
              "\n",
              "  <style>\n",
              "    .colab-df-container {\n",
              "      display:flex;\n",
              "      gap: 12px;\n",
              "    }\n",
              "\n",
              "    .colab-df-convert {\n",
              "      background-color: #E8F0FE;\n",
              "      border: none;\n",
              "      border-radius: 50%;\n",
              "      cursor: pointer;\n",
              "      display: none;\n",
              "      fill: #1967D2;\n",
              "      height: 32px;\n",
              "      padding: 0 0 0 0;\n",
              "      width: 32px;\n",
              "    }\n",
              "\n",
              "    .colab-df-convert:hover {\n",
              "      background-color: #E2EBFA;\n",
              "      box-shadow: 0px 1px 2px rgba(60, 64, 67, 0.3), 0px 1px 3px 1px rgba(60, 64, 67, 0.15);\n",
              "      fill: #174EA6;\n",
              "    }\n",
              "\n",
              "    .colab-df-buttons div {\n",
              "      margin-bottom: 4px;\n",
              "    }\n",
              "\n",
              "    [theme=dark] .colab-df-convert {\n",
              "      background-color: #3B4455;\n",
              "      fill: #D2E3FC;\n",
              "    }\n",
              "\n",
              "    [theme=dark] .colab-df-convert:hover {\n",
              "      background-color: #434B5C;\n",
              "      box-shadow: 0px 1px 3px 1px rgba(0, 0, 0, 0.15);\n",
              "      filter: drop-shadow(0px 1px 2px rgba(0, 0, 0, 0.3));\n",
              "      fill: #FFFFFF;\n",
              "    }\n",
              "  </style>\n",
              "\n",
              "    <script>\n",
              "      const buttonEl =\n",
              "        document.querySelector('#df-0094f54b-c8e6-4477-a4f4-791799506862 button.colab-df-convert');\n",
              "      buttonEl.style.display =\n",
              "        google.colab.kernel.accessAllowed ? 'block' : 'none';\n",
              "\n",
              "      async function convertToInteractive(key) {\n",
              "        const element = document.querySelector('#df-0094f54b-c8e6-4477-a4f4-791799506862');\n",
              "        const dataTable =\n",
              "          await google.colab.kernel.invokeFunction('convertToInteractive',\n",
              "                                                    [key], {});\n",
              "        if (!dataTable) return;\n",
              "\n",
              "        const docLinkHtml = 'Like what you see? Visit the ' +\n",
              "          '<a target=\"_blank\" href=https://colab.research.google.com/notebooks/data_table.ipynb>data table notebook</a>'\n",
              "          + ' to learn more about interactive tables.';\n",
              "        element.innerHTML = '';\n",
              "        dataTable['output_type'] = 'display_data';\n",
              "        await google.colab.output.renderOutput(dataTable, element);\n",
              "        const docLink = document.createElement('div');\n",
              "        docLink.innerHTML = docLinkHtml;\n",
              "        element.appendChild(docLink);\n",
              "      }\n",
              "    </script>\n",
              "  </div>\n",
              "\n",
              "\n",
              "<div id=\"df-eabd6182-c957-48cc-b15c-2b157604fba1\">\n",
              "  <button class=\"colab-df-quickchart\" onclick=\"quickchart('df-eabd6182-c957-48cc-b15c-2b157604fba1')\"\n",
              "            title=\"Suggest charts\"\n",
              "            style=\"display:none;\">\n",
              "\n",
              "<svg xmlns=\"http://www.w3.org/2000/svg\" height=\"24px\"viewBox=\"0 0 24 24\"\n",
              "     width=\"24px\">\n",
              "    <g>\n",
              "        <path d=\"M19 3H5c-1.1 0-2 .9-2 2v14c0 1.1.9 2 2 2h14c1.1 0 2-.9 2-2V5c0-1.1-.9-2-2-2zM9 17H7v-7h2v7zm4 0h-2V7h2v10zm4 0h-2v-4h2v4z\"/>\n",
              "    </g>\n",
              "</svg>\n",
              "  </button>\n",
              "\n",
              "<style>\n",
              "  .colab-df-quickchart {\n",
              "      --bg-color: #E8F0FE;\n",
              "      --fill-color: #1967D2;\n",
              "      --hover-bg-color: #E2EBFA;\n",
              "      --hover-fill-color: #174EA6;\n",
              "      --disabled-fill-color: #AAA;\n",
              "      --disabled-bg-color: #DDD;\n",
              "  }\n",
              "\n",
              "  [theme=dark] .colab-df-quickchart {\n",
              "      --bg-color: #3B4455;\n",
              "      --fill-color: #D2E3FC;\n",
              "      --hover-bg-color: #434B5C;\n",
              "      --hover-fill-color: #FFFFFF;\n",
              "      --disabled-bg-color: #3B4455;\n",
              "      --disabled-fill-color: #666;\n",
              "  }\n",
              "\n",
              "  .colab-df-quickchart {\n",
              "    background-color: var(--bg-color);\n",
              "    border: none;\n",
              "    border-radius: 50%;\n",
              "    cursor: pointer;\n",
              "    display: none;\n",
              "    fill: var(--fill-color);\n",
              "    height: 32px;\n",
              "    padding: 0;\n",
              "    width: 32px;\n",
              "  }\n",
              "\n",
              "  .colab-df-quickchart:hover {\n",
              "    background-color: var(--hover-bg-color);\n",
              "    box-shadow: 0 1px 2px rgba(60, 64, 67, 0.3), 0 1px 3px 1px rgba(60, 64, 67, 0.15);\n",
              "    fill: var(--button-hover-fill-color);\n",
              "  }\n",
              "\n",
              "  .colab-df-quickchart-complete:disabled,\n",
              "  .colab-df-quickchart-complete:disabled:hover {\n",
              "    background-color: var(--disabled-bg-color);\n",
              "    fill: var(--disabled-fill-color);\n",
              "    box-shadow: none;\n",
              "  }\n",
              "\n",
              "  .colab-df-spinner {\n",
              "    border: 2px solid var(--fill-color);\n",
              "    border-color: transparent;\n",
              "    border-bottom-color: var(--fill-color);\n",
              "    animation:\n",
              "      spin 1s steps(1) infinite;\n",
              "  }\n",
              "\n",
              "  @keyframes spin {\n",
              "    0% {\n",
              "      border-color: transparent;\n",
              "      border-bottom-color: var(--fill-color);\n",
              "      border-left-color: var(--fill-color);\n",
              "    }\n",
              "    20% {\n",
              "      border-color: transparent;\n",
              "      border-left-color: var(--fill-color);\n",
              "      border-top-color: var(--fill-color);\n",
              "    }\n",
              "    30% {\n",
              "      border-color: transparent;\n",
              "      border-left-color: var(--fill-color);\n",
              "      border-top-color: var(--fill-color);\n",
              "      border-right-color: var(--fill-color);\n",
              "    }\n",
              "    40% {\n",
              "      border-color: transparent;\n",
              "      border-right-color: var(--fill-color);\n",
              "      border-top-color: var(--fill-color);\n",
              "    }\n",
              "    60% {\n",
              "      border-color: transparent;\n",
              "      border-right-color: var(--fill-color);\n",
              "    }\n",
              "    80% {\n",
              "      border-color: transparent;\n",
              "      border-right-color: var(--fill-color);\n",
              "      border-bottom-color: var(--fill-color);\n",
              "    }\n",
              "    90% {\n",
              "      border-color: transparent;\n",
              "      border-bottom-color: var(--fill-color);\n",
              "    }\n",
              "  }\n",
              "</style>\n",
              "\n",
              "  <script>\n",
              "    async function quickchart(key) {\n",
              "      const quickchartButtonEl =\n",
              "        document.querySelector('#' + key + ' button');\n",
              "      quickchartButtonEl.disabled = true;  // To prevent multiple clicks.\n",
              "      quickchartButtonEl.classList.add('colab-df-spinner');\n",
              "      try {\n",
              "        const charts = await google.colab.kernel.invokeFunction(\n",
              "            'suggestCharts', [key], {});\n",
              "      } catch (error) {\n",
              "        console.error('Error during call to suggestCharts:', error);\n",
              "      }\n",
              "      quickchartButtonEl.classList.remove('colab-df-spinner');\n",
              "      quickchartButtonEl.classList.add('colab-df-quickchart-complete');\n",
              "    }\n",
              "    (() => {\n",
              "      let quickchartButtonEl =\n",
              "        document.querySelector('#df-eabd6182-c957-48cc-b15c-2b157604fba1 button');\n",
              "      quickchartButtonEl.style.display =\n",
              "        google.colab.kernel.accessAllowed ? 'block' : 'none';\n",
              "    })();\n",
              "  </script>\n",
              "</div>\n",
              "    </div>\n",
              "  </div>\n"
            ]
          },
          "metadata": {},
          "execution_count": 24
        }
      ],
      "source": [
        "# viewing a random sample of the dataset\n",
        "\n",
        "data.sample(5)"
      ]
    },
    {
      "cell_type": "markdown",
      "metadata": {
        "id": "iFPp6lP1YDqG"
      },
      "source": [
        "### Creating a copy of original data"
      ]
    },
    {
      "cell_type": "code",
      "execution_count": null,
      "metadata": {
        "id": "9eTS1_7ydKwJ"
      },
      "outputs": [],
      "source": [
        "# copying the data to another variable to avoid any changes to original data\n",
        "\n",
        "df = data.copy()"
      ]
    },
    {
      "cell_type": "code",
      "execution_count": null,
      "metadata": {
        "id": "OHN6HwF1dKwK"
      },
      "outputs": [],
      "source": [
        "# dropping the serial no. column as it does not provide any information\n",
        "\n",
        "df.drop(\"SR_NO\", axis = 1, inplace=True)"
      ]
    },
    {
      "cell_type": "markdown",
      "metadata": {
        "id": "PwKMsT8eWuSc"
      },
      "source": [
        "### Checking the data types of the columns for the dataset"
      ]
    },
    {
      "cell_type": "code",
      "execution_count": null,
      "metadata": {
        "colab": {
          "base_uri": "https://localhost:8080/"
        },
        "id": "vOJra-z6dKwK",
        "outputId": "90ae035b-c412-45f9-fa3e-362dc75c4c13"
      },
      "outputs": [
        {
          "output_type": "stream",
          "name": "stdout",
          "text": [
            "<class 'pandas.core.frame.DataFrame'>\n",
            "RangeIndex: 26 entries, 0 to 25\n",
            "Data columns (total 5 columns):\n",
            " #   Column          Non-Null Count  Dtype \n",
            "---  ------          --------------  ----- \n",
            " 0   Engg_College    26 non-null     object\n",
            " 1   Teaching        26 non-null     int64 \n",
            " 2   Fees            26 non-null     int64 \n",
            " 3   Placements      26 non-null     int64 \n",
            " 4   Infrastructure  26 non-null     int64 \n",
            "dtypes: int64(4), object(1)\n",
            "memory usage: 1.1+ KB\n"
          ]
        }
      ],
      "source": [
        "df.info()"
      ]
    },
    {
      "cell_type": "markdown",
      "metadata": {
        "id": "A7k9TT7ndKwK"
      },
      "source": [
        "**Observations**\n",
        "\n",
        "- *Engg_College* is a categorical variable with 26 levels that indicate each college's name.\n",
        "- The 5 rating variables are of type *int* (integer)."
      ]
    },
    {
      "cell_type": "markdown",
      "metadata": {
        "id": "O9ts4p3DW0ZV"
      },
      "source": [
        "### Statistical summary of the dataset"
      ]
    },
    {
      "cell_type": "code",
      "execution_count": null,
      "metadata": {
        "colab": {
          "base_uri": "https://localhost:8080/",
          "height": 300
        },
        "id": "Is31nwz1dKwK",
        "outputId": "cf653d47-ef06-4548-c540-c03cf90eda2a"
      },
      "outputs": [
        {
          "output_type": "execute_result",
          "data": {
            "text/plain": [
              "        Teaching       Fees  Placements  Infrastructure\n",
              "count  26.000000  26.000000   26.000000       26.000000\n",
              "mean    2.807692   3.576923    2.884615        3.384615\n",
              "std     1.132051   1.331858    1.531716        1.298520\n",
              "min     1.000000   1.000000    1.000000        1.000000\n",
              "25%     2.000000   2.250000    1.250000        3.000000\n",
              "50%     3.000000   4.000000    3.000000        3.000000\n",
              "75%     3.000000   5.000000    4.000000        4.750000\n",
              "max     5.000000   5.000000    5.000000        5.000000"
            ],
            "text/html": [
              "\n",
              "  <div id=\"df-1e1d5a43-c798-4d8e-8a2b-7dbd33900b77\" class=\"colab-df-container\">\n",
              "    <div>\n",
              "<style scoped>\n",
              "    .dataframe tbody tr th:only-of-type {\n",
              "        vertical-align: middle;\n",
              "    }\n",
              "\n",
              "    .dataframe tbody tr th {\n",
              "        vertical-align: top;\n",
              "    }\n",
              "\n",
              "    .dataframe thead th {\n",
              "        text-align: right;\n",
              "    }\n",
              "</style>\n",
              "<table border=\"1\" class=\"dataframe\">\n",
              "  <thead>\n",
              "    <tr style=\"text-align: right;\">\n",
              "      <th></th>\n",
              "      <th>Teaching</th>\n",
              "      <th>Fees</th>\n",
              "      <th>Placements</th>\n",
              "      <th>Infrastructure</th>\n",
              "    </tr>\n",
              "  </thead>\n",
              "  <tbody>\n",
              "    <tr>\n",
              "      <th>count</th>\n",
              "      <td>26.000000</td>\n",
              "      <td>26.000000</td>\n",
              "      <td>26.000000</td>\n",
              "      <td>26.000000</td>\n",
              "    </tr>\n",
              "    <tr>\n",
              "      <th>mean</th>\n",
              "      <td>2.807692</td>\n",
              "      <td>3.576923</td>\n",
              "      <td>2.884615</td>\n",
              "      <td>3.384615</td>\n",
              "    </tr>\n",
              "    <tr>\n",
              "      <th>std</th>\n",
              "      <td>1.132051</td>\n",
              "      <td>1.331858</td>\n",
              "      <td>1.531716</td>\n",
              "      <td>1.298520</td>\n",
              "    </tr>\n",
              "    <tr>\n",
              "      <th>min</th>\n",
              "      <td>1.000000</td>\n",
              "      <td>1.000000</td>\n",
              "      <td>1.000000</td>\n",
              "      <td>1.000000</td>\n",
              "    </tr>\n",
              "    <tr>\n",
              "      <th>25%</th>\n",
              "      <td>2.000000</td>\n",
              "      <td>2.250000</td>\n",
              "      <td>1.250000</td>\n",
              "      <td>3.000000</td>\n",
              "    </tr>\n",
              "    <tr>\n",
              "      <th>50%</th>\n",
              "      <td>3.000000</td>\n",
              "      <td>4.000000</td>\n",
              "      <td>3.000000</td>\n",
              "      <td>3.000000</td>\n",
              "    </tr>\n",
              "    <tr>\n",
              "      <th>75%</th>\n",
              "      <td>3.000000</td>\n",
              "      <td>5.000000</td>\n",
              "      <td>4.000000</td>\n",
              "      <td>4.750000</td>\n",
              "    </tr>\n",
              "    <tr>\n",
              "      <th>max</th>\n",
              "      <td>5.000000</td>\n",
              "      <td>5.000000</td>\n",
              "      <td>5.000000</td>\n",
              "      <td>5.000000</td>\n",
              "    </tr>\n",
              "  </tbody>\n",
              "</table>\n",
              "</div>\n",
              "    <div class=\"colab-df-buttons\">\n",
              "\n",
              "  <div class=\"colab-df-container\">\n",
              "    <button class=\"colab-df-convert\" onclick=\"convertToInteractive('df-1e1d5a43-c798-4d8e-8a2b-7dbd33900b77')\"\n",
              "            title=\"Convert this dataframe to an interactive table.\"\n",
              "            style=\"display:none;\">\n",
              "\n",
              "  <svg xmlns=\"http://www.w3.org/2000/svg\" height=\"24px\" viewBox=\"0 -960 960 960\">\n",
              "    <path d=\"M120-120v-720h720v720H120Zm60-500h600v-160H180v160Zm220 220h160v-160H400v160Zm0 220h160v-160H400v160ZM180-400h160v-160H180v160Zm440 0h160v-160H620v160ZM180-180h160v-160H180v160Zm440 0h160v-160H620v160Z\"/>\n",
              "  </svg>\n",
              "    </button>\n",
              "\n",
              "  <style>\n",
              "    .colab-df-container {\n",
              "      display:flex;\n",
              "      gap: 12px;\n",
              "    }\n",
              "\n",
              "    .colab-df-convert {\n",
              "      background-color: #E8F0FE;\n",
              "      border: none;\n",
              "      border-radius: 50%;\n",
              "      cursor: pointer;\n",
              "      display: none;\n",
              "      fill: #1967D2;\n",
              "      height: 32px;\n",
              "      padding: 0 0 0 0;\n",
              "      width: 32px;\n",
              "    }\n",
              "\n",
              "    .colab-df-convert:hover {\n",
              "      background-color: #E2EBFA;\n",
              "      box-shadow: 0px 1px 2px rgba(60, 64, 67, 0.3), 0px 1px 3px 1px rgba(60, 64, 67, 0.15);\n",
              "      fill: #174EA6;\n",
              "    }\n",
              "\n",
              "    .colab-df-buttons div {\n",
              "      margin-bottom: 4px;\n",
              "    }\n",
              "\n",
              "    [theme=dark] .colab-df-convert {\n",
              "      background-color: #3B4455;\n",
              "      fill: #D2E3FC;\n",
              "    }\n",
              "\n",
              "    [theme=dark] .colab-df-convert:hover {\n",
              "      background-color: #434B5C;\n",
              "      box-shadow: 0px 1px 3px 1px rgba(0, 0, 0, 0.15);\n",
              "      filter: drop-shadow(0px 1px 2px rgba(0, 0, 0, 0.3));\n",
              "      fill: #FFFFFF;\n",
              "    }\n",
              "  </style>\n",
              "\n",
              "    <script>\n",
              "      const buttonEl =\n",
              "        document.querySelector('#df-1e1d5a43-c798-4d8e-8a2b-7dbd33900b77 button.colab-df-convert');\n",
              "      buttonEl.style.display =\n",
              "        google.colab.kernel.accessAllowed ? 'block' : 'none';\n",
              "\n",
              "      async function convertToInteractive(key) {\n",
              "        const element = document.querySelector('#df-1e1d5a43-c798-4d8e-8a2b-7dbd33900b77');\n",
              "        const dataTable =\n",
              "          await google.colab.kernel.invokeFunction('convertToInteractive',\n",
              "                                                    [key], {});\n",
              "        if (!dataTable) return;\n",
              "\n",
              "        const docLinkHtml = 'Like what you see? Visit the ' +\n",
              "          '<a target=\"_blank\" href=https://colab.research.google.com/notebooks/data_table.ipynb>data table notebook</a>'\n",
              "          + ' to learn more about interactive tables.';\n",
              "        element.innerHTML = '';\n",
              "        dataTable['output_type'] = 'display_data';\n",
              "        await google.colab.output.renderOutput(dataTable, element);\n",
              "        const docLink = document.createElement('div');\n",
              "        docLink.innerHTML = docLinkHtml;\n",
              "        element.appendChild(docLink);\n",
              "      }\n",
              "    </script>\n",
              "  </div>\n",
              "\n",
              "\n",
              "<div id=\"df-5561155e-06d9-491e-996d-616f2a1fdc13\">\n",
              "  <button class=\"colab-df-quickchart\" onclick=\"quickchart('df-5561155e-06d9-491e-996d-616f2a1fdc13')\"\n",
              "            title=\"Suggest charts\"\n",
              "            style=\"display:none;\">\n",
              "\n",
              "<svg xmlns=\"http://www.w3.org/2000/svg\" height=\"24px\"viewBox=\"0 0 24 24\"\n",
              "     width=\"24px\">\n",
              "    <g>\n",
              "        <path d=\"M19 3H5c-1.1 0-2 .9-2 2v14c0 1.1.9 2 2 2h14c1.1 0 2-.9 2-2V5c0-1.1-.9-2-2-2zM9 17H7v-7h2v7zm4 0h-2V7h2v10zm4 0h-2v-4h2v4z\"/>\n",
              "    </g>\n",
              "</svg>\n",
              "  </button>\n",
              "\n",
              "<style>\n",
              "  .colab-df-quickchart {\n",
              "      --bg-color: #E8F0FE;\n",
              "      --fill-color: #1967D2;\n",
              "      --hover-bg-color: #E2EBFA;\n",
              "      --hover-fill-color: #174EA6;\n",
              "      --disabled-fill-color: #AAA;\n",
              "      --disabled-bg-color: #DDD;\n",
              "  }\n",
              "\n",
              "  [theme=dark] .colab-df-quickchart {\n",
              "      --bg-color: #3B4455;\n",
              "      --fill-color: #D2E3FC;\n",
              "      --hover-bg-color: #434B5C;\n",
              "      --hover-fill-color: #FFFFFF;\n",
              "      --disabled-bg-color: #3B4455;\n",
              "      --disabled-fill-color: #666;\n",
              "  }\n",
              "\n",
              "  .colab-df-quickchart {\n",
              "    background-color: var(--bg-color);\n",
              "    border: none;\n",
              "    border-radius: 50%;\n",
              "    cursor: pointer;\n",
              "    display: none;\n",
              "    fill: var(--fill-color);\n",
              "    height: 32px;\n",
              "    padding: 0;\n",
              "    width: 32px;\n",
              "  }\n",
              "\n",
              "  .colab-df-quickchart:hover {\n",
              "    background-color: var(--hover-bg-color);\n",
              "    box-shadow: 0 1px 2px rgba(60, 64, 67, 0.3), 0 1px 3px 1px rgba(60, 64, 67, 0.15);\n",
              "    fill: var(--button-hover-fill-color);\n",
              "  }\n",
              "\n",
              "  .colab-df-quickchart-complete:disabled,\n",
              "  .colab-df-quickchart-complete:disabled:hover {\n",
              "    background-color: var(--disabled-bg-color);\n",
              "    fill: var(--disabled-fill-color);\n",
              "    box-shadow: none;\n",
              "  }\n",
              "\n",
              "  .colab-df-spinner {\n",
              "    border: 2px solid var(--fill-color);\n",
              "    border-color: transparent;\n",
              "    border-bottom-color: var(--fill-color);\n",
              "    animation:\n",
              "      spin 1s steps(1) infinite;\n",
              "  }\n",
              "\n",
              "  @keyframes spin {\n",
              "    0% {\n",
              "      border-color: transparent;\n",
              "      border-bottom-color: var(--fill-color);\n",
              "      border-left-color: var(--fill-color);\n",
              "    }\n",
              "    20% {\n",
              "      border-color: transparent;\n",
              "      border-left-color: var(--fill-color);\n",
              "      border-top-color: var(--fill-color);\n",
              "    }\n",
              "    30% {\n",
              "      border-color: transparent;\n",
              "      border-left-color: var(--fill-color);\n",
              "      border-top-color: var(--fill-color);\n",
              "      border-right-color: var(--fill-color);\n",
              "    }\n",
              "    40% {\n",
              "      border-color: transparent;\n",
              "      border-right-color: var(--fill-color);\n",
              "      border-top-color: var(--fill-color);\n",
              "    }\n",
              "    60% {\n",
              "      border-color: transparent;\n",
              "      border-right-color: var(--fill-color);\n",
              "    }\n",
              "    80% {\n",
              "      border-color: transparent;\n",
              "      border-right-color: var(--fill-color);\n",
              "      border-bottom-color: var(--fill-color);\n",
              "    }\n",
              "    90% {\n",
              "      border-color: transparent;\n",
              "      border-bottom-color: var(--fill-color);\n",
              "    }\n",
              "  }\n",
              "</style>\n",
              "\n",
              "  <script>\n",
              "    async function quickchart(key) {\n",
              "      const quickchartButtonEl =\n",
              "        document.querySelector('#' + key + ' button');\n",
              "      quickchartButtonEl.disabled = true;  // To prevent multiple clicks.\n",
              "      quickchartButtonEl.classList.add('colab-df-spinner');\n",
              "      try {\n",
              "        const charts = await google.colab.kernel.invokeFunction(\n",
              "            'suggestCharts', [key], {});\n",
              "      } catch (error) {\n",
              "        console.error('Error during call to suggestCharts:', error);\n",
              "      }\n",
              "      quickchartButtonEl.classList.remove('colab-df-spinner');\n",
              "      quickchartButtonEl.classList.add('colab-df-quickchart-complete');\n",
              "    }\n",
              "    (() => {\n",
              "      let quickchartButtonEl =\n",
              "        document.querySelector('#df-5561155e-06d9-491e-996d-616f2a1fdc13 button');\n",
              "      quickchartButtonEl.style.display =\n",
              "        google.colab.kernel.accessAllowed ? 'block' : 'none';\n",
              "    })();\n",
              "  </script>\n",
              "</div>\n",
              "    </div>\n",
              "  </div>\n"
            ]
          },
          "metadata": {},
          "execution_count": 28
        }
      ],
      "source": [
        "\n",
        "df.describe()"
      ]
    },
    {
      "cell_type": "markdown",
      "metadata": {
        "id": "u7GhkKlVdKwL"
      },
      "source": [
        "**Observations**\n",
        "\n",
        "- The median value of fees is 4, indicating that most of the engineering colleges have high fees.\n",
        "- The mean and median of other ratings lie between 2 and 3, except the mean infrastructure rating."
      ]
    },
    {
      "cell_type": "markdown",
      "metadata": {
        "id": "RwWsg107W7a4"
      },
      "source": [
        "### Checking for missing values"
      ]
    },
    {
      "cell_type": "code",
      "execution_count": null,
      "metadata": {
        "colab": {
          "base_uri": "https://localhost:8080/"
        },
        "id": "ciIBm14ddKwL",
        "outputId": "af1967a4-dbc9-4402-b7ca-d75c32fafad4"
      },
      "outputs": [
        {
          "output_type": "execute_result",
          "data": {
            "text/plain": [
              "Engg_College      0\n",
              "Teaching          0\n",
              "Fees              0\n",
              "Placements        0\n",
              "Infrastructure    0\n",
              "dtype: int64"
            ]
          },
          "metadata": {},
          "execution_count": 29
        }
      ],
      "source": [
        "# checking for missing values\n",
        "\n",
        "df.isnull().sum()"
      ]
    },
    {
      "cell_type": "markdown",
      "metadata": {
        "id": "gxX99dS2dKwL"
      },
      "source": [
        "- There are no missing values in our data"
      ]
    },
    {
      "cell_type": "markdown",
      "metadata": {
        "id": "46MTuO41dKwL"
      },
      "source": [
        "## Exploratory Data Analysis"
      ]
    },
    {
      "cell_type": "code",
      "execution_count": null,
      "metadata": {
        "id": "jvCZcL-0-4E4"
      },
      "outputs": [],
      "source": [
        "# function to create labeled barplots\n",
        "\n",
        "\n",
        "def labeled_barplot(data, feature, perc=False, n=None, title = None):\n",
        "    \"\"\"\n",
        "    Barplot with percentage at the top\n",
        "\n",
        "    data: dataframe\n",
        "    feature: dataframe column\n",
        "    perc: whether to display percentages instead of count (default is False)\n",
        "    n: displays the top n category levels (default is None, i.e., display all levels)\n",
        "    \"\"\"\n",
        "\n",
        "    total = len(data[feature])  # length of the column\n",
        "    count = data[feature].nunique()\n",
        "    if n is None:\n",
        "        plt.figure(figsize=(count + 1, 5))\n",
        "    else:\n",
        "        plt.figure(figsize=(n + 1, 5))\n",
        "\n",
        "    plt.xticks(rotation=90, fontsize=15)\n",
        "    ax = sns.countplot(\n",
        "        data=data,\n",
        "        x=feature,\n",
        "        palette=\"Paired\",\n",
        "        order=data[feature].value_counts().index[:n].sort_values(),\n",
        "    )\n",
        "\n",
        "    for p in ax.patches:\n",
        "        if perc == True:\n",
        "            label = \"{:.1f}%\".format(\n",
        "                100 * p.get_height() / total\n",
        "            )  # percentage of each class of the category\n",
        "        else:\n",
        "            label = p.get_height()  # count of each level of the category\n",
        "\n",
        "        x = p.get_x() + p.get_width() / 2  # width of the plot\n",
        "        y = p.get_height()  # height of the plot\n",
        "\n",
        "        ax.annotate(\n",
        "            label,\n",
        "            (x, y),\n",
        "            ha=\"center\",\n",
        "            va=\"center\",\n",
        "            size=12,\n",
        "            xytext=(0, 5),\n",
        "            textcoords=\"offset points\",\n",
        "        )  # annotate the percentage\n",
        "    plt.title(title)\n",
        "    plt.show()  # show the plot"
      ]
    },
    {
      "cell_type": "markdown",
      "metadata": {
        "id": "Mn2UMpsOdKwL"
      },
      "source": [
        "### Univariate Analysis"
      ]
    },
    {
      "cell_type": "code",
      "execution_count": null,
      "metadata": {
        "colab": {
          "base_uri": "https://localhost:8080/"
        },
        "id": "KAfkGSbN-4E4",
        "outputId": "b43d6a03-a729-49d3-f1c5-0ec70ca6c699"
      },
      "outputs": [
        {
          "output_type": "execute_result",
          "data": {
            "text/plain": [
              "['Teaching', 'Fees', 'Placements', 'Infrastructure']"
            ]
          },
          "metadata": {},
          "execution_count": 31
        }
      ],
      "source": [
        "# select the numerical features as a list of numerical columns\n",
        "# num_col = df.select_dtypes(include= number).columns.tolist()\n",
        "# include= number == (include= np.number)\n",
        "num_col = df.select_dtypes(include= np.number).columns.tolist()\n",
        "\n",
        "num_col"
      ]
    },
    {
      "cell_type": "code",
      "execution_count": null,
      "metadata": {
        "colab": {
          "base_uri": "https://localhost:8080/",
          "height": 1000
        },
        "id": "t2rHzK4B-4E5",
        "outputId": "8a6d0f77-bdb4-47bc-b95e-e2aa3169ac19"
      },
      "outputs": [
        {
          "output_type": "stream",
          "name": "stderr",
          "text": [
            "<ipython-input-30-9e54a4cfdff9>:22: FutureWarning: \n",
            "\n",
            "Passing `palette` without assigning `hue` is deprecated and will be removed in v0.14.0. Assign the `x` variable to `hue` and set `legend=False` for the same effect.\n",
            "\n",
            "  ax = sns.countplot(\n"
          ]
        },
        {
          "output_type": "display_data",
          "data": {
            "text/plain": [
              "<Figure size 600x500 with 1 Axes>"
            ],
            "image/png": "[encoded data removed]"
          },
          "metadata": {}
        },
        {
          "output_type": "stream",
          "name": "stderr",
          "text": [
            "<ipython-input-30-9e54a4cfdff9>:22: FutureWarning: \n",
            "\n",
            "Passing `palette` without assigning `hue` is deprecated and will be removed in v0.14.0. Assign the `x` variable to `hue` and set `legend=False` for the same effect.\n",
            "\n",
            "  ax = sns.countplot(\n"
          ]
        },
        {
          "output_type": "display_data",
          "data": {
            "text/plain": [
              "<Figure size 600x500 with 1 Axes>"
            ],
            "image/png": "[encoded data removed]"
          },
          "metadata": {}
        },
        {
          "output_type": "stream",
          "name": "stderr",
          "text": [
            "<ipython-input-30-9e54a4cfdff9>:22: FutureWarning: \n",
            "\n",
            "Passing `palette` without assigning `hue` is deprecated and will be removed in v0.14.0. Assign the `x` variable to `hue` and set `legend=False` for the same effect.\n",
            "\n",
            "  ax = sns.countplot(\n"
          ]
        },
        {
          "output_type": "display_data",
          "data": {
            "text/plain": [
              "<Figure size 600x500 with 1 Axes>"
            ],
            "image/png": "[encoded data removed]"
          },
          "metadata": {}
        },
        {
          "output_type": "stream",
          "name": "stderr",
          "text": [
            "<ipython-input-30-9e54a4cfdff9>:22: FutureWarning: \n",
            "\n",
            "Passing `palette` without assigning `hue` is deprecated and will be removed in v0.14.0. Assign the `x` variable to `hue` and set `legend=False` for the same effect.\n",
            "\n",
            "  ax = sns.countplot(\n"
          ]
        },
        {
          "output_type": "display_data",
          "data": {
            "text/plain": [
              "<Figure size 600x500 with 1 Axes>"
            ],
            "image/png": "[encoded data removed]"
          },
          "metadata": {}
        }
      ],
      "source": [
        "# loop through each column and create a bar plot for each feature\n",
        "#\n",
        "for col in num_col: # features = column  name\n",
        "    labeled_barplot(data = df, feature=col, perc=True)"
      ]
    },
    {
      "cell_type": "markdown",
      "metadata": {
        "id": "XMw358uCmFpz"
      },
      "source": [
        "**Observations**\n",
        "\n",
        "- More than 70% of the colleges have a rating of 3 or more for placements.\n",
        "- More than 80% of the colleges have a rating of 3 or more for infrastructure.\n",
        "- More than 60% of the colleges have a rating of 3 or more for teaching."
      ]
    },
    {
      "cell_type": "markdown",
      "metadata": {
        "id": "n05jRK-WmFp0"
      },
      "source": [
        "### Bivariate Analsysis"
      ]
    },
    {
      "cell_type": "markdown",
      "metadata": {
        "id": "OXzf3tIzmFp0"
      },
      "source": [
        "**Let's check for correlations.**"
      ]
    },
    {
      "cell_type": "code",
      "execution_count": null,
      "metadata": {
        "colab": {
          "base_uri": "https://localhost:8080/",
          "height": 365
        },
        "id": "hndTwg5LmFp1",
        "outputId": "feb37ecc-57a0-45c5-8c25-de37599387e4",
        "scrolled": false
      },
      "outputs": [
        {
          "output_type": "display_data",
          "data": {
            "text/plain": [
              "<Figure size 500x300 with 2 Axes>"
            ],
            "image/png": "[encoded data removed]"
          },
          "metadata": {}
        }
      ],
      "source": [
        " # num_col = numerical column in our data set\n",
        "num_data = df[num_col]\n",
        "\n",
        "cor = num_data.corr()\n",
        "\n",
        "plt.figure(figsize=(5, 3))\n",
        "sns.heatmap(cor, vmin = -1, vmax = 1, cmap = \"Spectral\", annot=True, fmt=\".2f\") # two decimal places\n",
        "plt.show()"
      ]
    },
    {
      "cell_type": "markdown",
      "metadata": {
        "id": "4oMajkgKmFp1"
      },
      "source": [
        "**Observation**\n",
        "\n",
        "- Rating for teaching is strongly positively correlated with the rating for placements.\n",
        "- This is obvious because if teaching quality is high, students are more likely to get placements."
      ]
    },
    {
      "cell_type": "markdown",
      "metadata": {
        "id": "wqGDD8P9mFp1"
      },
      "source": [
        "### **What is feature scaling?**\n",
        "\n",
        "Feature scaling is a class of statistical techniques that, as the name implies, scales the features of our data so that they all have a similar range. You'll understand better if we look at an example:\n",
        "\n",
        "If you have multiple independent variables like age, salary, and height, With their range as (18–100 Years), (25,000–75,000 Euros), and (1–2 Meters) respectively, feature scaling would help them all to be in the same range.\n",
        "\n",
        "### **Why feature scaling is improtant in Unsupervised Learning?**\n",
        "\n",
        "Feature scaling is specially relevant in machine learning models that compute some sort of distance metric, like most clustering methods like K-Means.\n",
        "\n",
        "So, scaling should be done to avoid the problem of one feature dominating over others because the unsupervised learning algorithm uses distance to find the similarity between data points."
      ]
    },
    {
      "cell_type": "markdown",
      "metadata": {
        "id": "ZQb68T6ZmFp2"
      },
      "source": [
        "### For this case study, we will not scale the features because all of the variables in the data have the same units, which range from 1 to 5."
      ]
    },
    {
      "cell_type": "markdown",
      "metadata": {
        "id": "HzHLnyPqmFp2"
      },
      "source": [
        "## K-Means Clustering"
      ]
    },
    {
      "cell_type": "markdown",
      "source": [
        "### using k_means without setting the number of clusters\n",
        "- the default number of clusters with k means is 8\n"
      ],
      "metadata": {
        "id": "2WcUmnKJOvc1"
      }
    },
    {
      "cell_type": "markdown",
      "metadata": {
        "id": "JNSKnZYw-4FX"
      },
      "source": [
        "#### Choosing optimal number of cluster\n",
        "#### mean distortion method (similar to the inertia method)\n",
        "- distortion is what is the cummulative distance between the each of the features in the data set and cluster center\n",
        "\n",
        "- calulate the cummulative distance between the each of the features in the data set and cluster center using the eculidean distance sum(np.min(cdist(num_data, model.cluster_centers_, \"euclidean\"), axis=1))  and divided by the number of row in the data (num_data.shape[0])\n",
        "\n",
        "- sum(np.min(cdist(num_data, model.cluster_centers_, \"euclidean\"), axis=1))/ num_data.shape[0]"
      ]
    },
    {
      "cell_type": "code",
      "execution_count": null,
      "metadata": {
        "colab": {
          "base_uri": "https://localhost:8080/",
          "height": 969
        },
        "id": "fPy35tDqmFp6",
        "outputId": "18a7a119-0afb-4694-b5ea-5c51f1aef24c"
      },
      "outputs": [
        {
          "output_type": "stream",
          "name": "stderr",
          "text": [
            "/usr/local/lib/python3.10/dist-packages/sklearn/cluster/_kmeans.py:870: FutureWarning: The default value of `n_init` will change from 10 to 'auto' in 1.4. Set the value of `n_init` explicitly to suppress the warning\n",
            "  warnings.warn(\n",
            "/usr/local/lib/python3.10/dist-packages/sklearn/cluster/_kmeans.py:870: FutureWarning: The default value of `n_init` will change from 10 to 'auto' in 1.4. Set the value of `n_init` explicitly to suppress the warning\n",
            "  warnings.warn(\n",
            "/usr/local/lib/python3.10/dist-packages/sklearn/cluster/_kmeans.py:870: FutureWarning: The default value of `n_init` will change from 10 to 'auto' in 1.4. Set the value of `n_init` explicitly to suppress the warning\n",
            "  warnings.warn(\n",
            "/usr/local/lib/python3.10/dist-packages/sklearn/cluster/_kmeans.py:870: FutureWarning: The default value of `n_init` will change from 10 to 'auto' in 1.4. Set the value of `n_init` explicitly to suppress the warning\n",
            "  warnings.warn(\n",
            "/usr/local/lib/python3.10/dist-packages/sklearn/cluster/_kmeans.py:870: FutureWarning: The default value of `n_init` will change from 10 to 'auto' in 1.4. Set the value of `n_init` explicitly to suppress the warning\n",
            "  warnings.warn(\n",
            "/usr/local/lib/python3.10/dist-packages/sklearn/cluster/_kmeans.py:870: FutureWarning: The default value of `n_init` will change from 10 to 'auto' in 1.4. Set the value of `n_init` explicitly to suppress the warning\n",
            "  warnings.warn(\n",
            "/usr/local/lib/python3.10/dist-packages/sklearn/cluster/_kmeans.py:870: FutureWarning: The default value of `n_init` will change from 10 to 'auto' in 1.4. Set the value of `n_init` explicitly to suppress the warning\n",
            "  warnings.warn(\n",
            "/usr/local/lib/python3.10/dist-packages/sklearn/cluster/_kmeans.py:870: FutureWarning: The default value of `n_init` will change from 10 to 'auto' in 1.4. Set the value of `n_init` explicitly to suppress the warning\n",
            "  warnings.warn(\n"
          ]
        },
        {
          "output_type": "stream",
          "name": "stdout",
          "text": [
            "Number of Clusters: 1 \tAverage Distortion: 2.445161236901436\n",
            "Number of Clusters: 2 \tAverage Distortion: 1.8386954425352884\n",
            "Number of Clusters: 3 \tAverage Distortion: 1.5663251587239047\n",
            "Number of Clusters: 4 \tAverage Distortion: 1.319866756300917\n",
            "Number of Clusters: 5 \tAverage Distortion: 1.1702052828266019\n",
            "Number of Clusters: 6 \tAverage Distortion: 1.0227348535373915\n",
            "Number of Clusters: 7 \tAverage Distortion: 0.8865332197832502\n",
            "Number of Clusters: 8 \tAverage Distortion: 0.7536430520826071\n"
          ]
        },
        {
          "output_type": "display_data",
          "data": {
            "text/plain": [
              "<Figure size 800x550 with 1 Axes>"
            ],
            "image/png": "[encoded data removed]"
          },
          "metadata": {}
        }
      ],
      "source": [
        "# Define the range of clusters to try\n",
        "clusters = range(1, 9)\n",
        "\n",
        "# Initialize an empty list to store mean distortions for each number of clusters\n",
        "meanDistortions = []\n",
        "\n",
        "# Iterate over each number of clusters\n",
        "for k in clusters:\n",
        "    # Initialize KMeans with current number of clusters\n",
        "    model = KMeans(n_clusters=k)\n",
        "\n",
        "    # Fit KMeans on the data\n",
        "    model.fit(num_data)\n",
        "\n",
        "    # Predict clusters for the data\n",
        "    prediction = model.predict(num_data)\n",
        "\n",
        "    # Calculate distortion for the current number of clusters\n",
        "    distortion = (sum(np.min(cdist(num_data, model.cluster_centers_, \"euclidean\"), axis=1))\n",
        "                  / num_data.shape[0])\n",
        "\n",
        "    # Append the calculated distortion to the list\n",
        "    meanDistortions.append(distortion)\n",
        "\n",
        "    # Print the number of clusters and its corresponding average distortion\n",
        "    print(\"Number of Clusters:\", k, \"\\tAverage Distortion:\", distortion)\n",
        "\n",
        "# Plotting the elbow curve\n",
        "plt.plot(clusters, meanDistortions, \"bx-\")\n",
        "plt.xlabel(\"k\")  # Label for X-axis\n",
        "plt.ylabel(\"Average Distortion\")  # Label for y-axis\n",
        "plt.title(\"Selecting k with the Elbow Method\", fontsize=20)  # Title of the plot\n",
        "plt.show()  # Display the plot\n"
      ]
    },
    {
      "cell_type": "markdown",
      "source": [
        "### using the intertia method to determine the number of clusters"
      ],
      "metadata": {
        "id": "1K63AyE4Yx3O"
      }
    },
    {
      "cell_type": "code",
      "source": [
        "# Initialize an empty list to store distortions for each number of clusters\n",
        "distortions = []\n",
        "\n",
        "# Define the range of clusters to try\n",
        "K = range(1, 10)\n",
        "\n",
        "# Iterate over each number of clusters\n",
        "for k in K:\n",
        "    # Initialize KMeans with current number of clusters and a fixed random state\n",
        "    kmeans = KMeans(n_clusters=k, random_state=42)\n",
        "\n",
        "    # Fit KMeans on the data\n",
        "    kmeans.fit(num_data)\n",
        "\n",
        "    # Calculate and append the inertia (sum of squared distances to the nearest centroid) to the list\n",
        "    distortions.append(kmeans.inertia_)\n"
      ],
      "metadata": {
        "colab": {
          "base_uri": "https://localhost:8080/"
        },
        "id": "x1LN7vkWWxkc",
        "outputId": "3ac7e29a-5bba-449c-b07a-4f4c6ccd7f7d"
      },
      "execution_count": null,
      "outputs": [
        {
          "output_type": "stream",
          "name": "stderr",
          "text": [
            "/usr/local/lib/python3.10/dist-packages/sklearn/cluster/_kmeans.py:870: FutureWarning: The default value of `n_init` will change from 10 to 'auto' in 1.4. Set the value of `n_init` explicitly to suppress the warning\n",
            "  warnings.warn(\n",
            "/usr/local/lib/python3.10/dist-packages/sklearn/cluster/_kmeans.py:870: FutureWarning: The default value of `n_init` will change from 10 to 'auto' in 1.4. Set the value of `n_init` explicitly to suppress the warning\n",
            "  warnings.warn(\n",
            "/usr/local/lib/python3.10/dist-packages/sklearn/cluster/_kmeans.py:870: FutureWarning: The default value of `n_init` will change from 10 to 'auto' in 1.4. Set the value of `n_init` explicitly to suppress the warning\n",
            "  warnings.warn(\n",
            "/usr/local/lib/python3.10/dist-packages/sklearn/cluster/_kmeans.py:870: FutureWarning: The default value of `n_init` will change from 10 to 'auto' in 1.4. Set the value of `n_init` explicitly to suppress the warning\n",
            "  warnings.warn(\n",
            "/usr/local/lib/python3.10/dist-packages/sklearn/cluster/_kmeans.py:870: FutureWarning: The default value of `n_init` will change from 10 to 'auto' in 1.4. Set the value of `n_init` explicitly to suppress the warning\n",
            "  warnings.warn(\n",
            "/usr/local/lib/python3.10/dist-packages/sklearn/cluster/_kmeans.py:870: FutureWarning: The default value of `n_init` will change from 10 to 'auto' in 1.4. Set the value of `n_init` explicitly to suppress the warning\n",
            "  warnings.warn(\n",
            "/usr/local/lib/python3.10/dist-packages/sklearn/cluster/_kmeans.py:870: FutureWarning: The default value of `n_init` will change from 10 to 'auto' in 1.4. Set the value of `n_init` explicitly to suppress the warning\n",
            "  warnings.warn(\n",
            "/usr/local/lib/python3.10/dist-packages/sklearn/cluster/_kmeans.py:870: FutureWarning: The default value of `n_init` will change from 10 to 'auto' in 1.4. Set the value of `n_init` explicitly to suppress the warning\n",
            "  warnings.warn(\n",
            "/usr/local/lib/python3.10/dist-packages/sklearn/cluster/_kmeans.py:870: FutureWarning: The default value of `n_init` will change from 10 to 'auto' in 1.4. Set the value of `n_init` explicitly to suppress the warning\n",
            "  warnings.warn(\n"
          ]
        }
      ]
    },
    {
      "cell_type": "code",
      "source": [
        "# Creating a DataFrame with Cluster numbers and their corresponding SSE (sum of squared errors)\n",
        "frame = pd.DataFrame({\"Cluster\": range(1,10), \"SSE\": distortions})\n",
        "\n",
        "# Setting up the size of the plot\n",
        "plt.figure(figsize=(10,5))\n",
        "\n",
        "# Plotting the SSE against the number of clusters\n",
        "plt.plot(frame[\"Cluster\"], frame[\"SSE\"], marker=\"o\")\n",
        "\n",
        "# Labeling the axes\n",
        "plt.xlabel('Number of clusters')\n",
        "plt.ylabel('Inertia')\n",
        "\n",
        "# Adding a title to the plot\n",
        "plt.title('Elbow Method')\n",
        "\n",
        "# Displaying the plot\n",
        "plt.show()\n"
      ],
      "metadata": {
        "colab": {
          "base_uri": "https://localhost:8080/",
          "height": 485
        },
        "id": "5L_IDyjeXHYx",
        "outputId": "f52604b9-fd4d-49f7-d88d-68006ef89a66"
      },
      "execution_count": null,
      "outputs": [
        {
          "output_type": "display_data",
          "data": {
            "text/plain": [
              "<Figure size 1000x500 with 1 Axes>"
            ],
            "image/png": "[encoded data removed]"
          },
          "metadata": {}
        }
      ]
    },
    {
      "cell_type": "markdown",
      "metadata": {
        "id": "Y-dElE71mFp8"
      },
      "source": [
        "**In the above plot, the elbow is seen for K=2 and 4 but if you observe the Average distortion results, there is some drop in distortion at K= 5**"
      ]
    },
    {
      "cell_type": "markdown",
      "metadata": {
        "id": "xeb5urVAmFp9"
      },
      "source": [
        "**) How do we determine the optimal K value when the elbows point is not clear but observed at 3 or more K values from the elbow curve?**\n",
        "\n",
        "**To make a better decision about the number of clusters, we can look at the silhouette score for different K values.**"
      ]
    },
    {
      "cell_type": "markdown",
      "metadata": {
        "id": "VE9h8d2bmFp9"
      },
      "source": [
        "### What is silhouette score?\n",
        "\n",
        "Silhouette score is one of the methods for evaluating the quality of clusters created using clustering algorithms such as K-Means. The silhouette score is a measure of how similar an object is to its own cluster (cohesion) compared to other clusters (separation). Silhouette score has a range of [-1, 1].\n",
        "\n",
        "* Silhouette coefficients near +1 indicate that the sample is far away from the neighboring clusters.\n",
        "* Silhouette score near -1 indicate that those samples might have been assigned to the wrong cluster."
      ]
    },
    {
      "cell_type": "code",
      "execution_count": null,
      "metadata": {
        "colab": {
          "base_uri": "https://localhost:8080/",
          "height": 943
        },
        "id": "dxtaNlzhmFp9",
        "outputId": "f5bbec28-3d89-447e-8c88-5d0d7fa03e55"
      },
      "outputs": [
        {
          "output_type": "stream",
          "name": "stderr",
          "text": [
            "/usr/local/lib/python3.10/dist-packages/sklearn/cluster/_kmeans.py:870: FutureWarning: The default value of `n_init` will change from 10 to 'auto' in 1.4. Set the value of `n_init` explicitly to suppress the warning\n",
            "  warnings.warn(\n",
            "/usr/local/lib/python3.10/dist-packages/sklearn/cluster/_kmeans.py:870: FutureWarning: The default value of `n_init` will change from 10 to 'auto' in 1.4. Set the value of `n_init` explicitly to suppress the warning\n",
            "  warnings.warn(\n",
            "/usr/local/lib/python3.10/dist-packages/sklearn/cluster/_kmeans.py:870: FutureWarning: The default value of `n_init` will change from 10 to 'auto' in 1.4. Set the value of `n_init` explicitly to suppress the warning\n",
            "  warnings.warn(\n",
            "/usr/local/lib/python3.10/dist-packages/sklearn/cluster/_kmeans.py:870: FutureWarning: The default value of `n_init` will change from 10 to 'auto' in 1.4. Set the value of `n_init` explicitly to suppress the warning\n",
            "  warnings.warn(\n",
            "/usr/local/lib/python3.10/dist-packages/sklearn/cluster/_kmeans.py:870: FutureWarning: The default value of `n_init` will change from 10 to 'auto' in 1.4. Set the value of `n_init` explicitly to suppress the warning\n",
            "  warnings.warn(\n",
            "/usr/local/lib/python3.10/dist-packages/sklearn/cluster/_kmeans.py:870: FutureWarning: The default value of `n_init` will change from 10 to 'auto' in 1.4. Set the value of `n_init` explicitly to suppress the warning\n",
            "  warnings.warn(\n",
            "/usr/local/lib/python3.10/dist-packages/sklearn/cluster/_kmeans.py:870: FutureWarning: The default value of `n_init` will change from 10 to 'auto' in 1.4. Set the value of `n_init` explicitly to suppress the warning\n",
            "  warnings.warn(\n",
            "/usr/local/lib/python3.10/dist-packages/sklearn/cluster/_kmeans.py:870: FutureWarning: The default value of `n_init` will change from 10 to 'auto' in 1.4. Set the value of `n_init` explicitly to suppress the warning\n",
            "  warnings.warn(\n"
          ]
        },
        {
          "output_type": "stream",
          "name": "stdout",
          "text": [
            "For n_clusters = 2, silhouette score is 0.38121701144257797\n",
            "For n_clusters = 3, silhouette score is 0.4288415910208104\n",
            "For n_clusters = 4, silhouette score is 0.36154656907517135\n",
            "For n_clusters = 5, silhouette score is 0.3768337560059902\n",
            "For n_clusters = 6, silhouette score is 0.3724058078460387\n",
            "For n_clusters = 7, silhouette score is 0.4213389680738873\n",
            "For n_clusters = 8, silhouette score is 0.45545926155854705\n",
            "For n_clusters = 9, silhouette score is 0.42510835718983014\n"
          ]
        },
        {
          "output_type": "execute_result",
          "data": {
            "text/plain": [
              "[<matplotlib.lines.Line2D at 0x7ad8f40a6410>]"
            ]
          },
          "metadata": {},
          "execution_count": 37
        },
        {
          "output_type": "display_data",
          "data": {
            "text/plain": [
              "<Figure size 800x550 with 1 Axes>"
            ],
            "image/png": "[encoded data removed]"
          },
          "metadata": {}
        }
      ],
      "source": [
        "# Create an empty list to store silhouette scores\n",
        "sil_score = []\n",
        "\n",
        "# Create a list of cluster numbers ranging from 2 to 9\n",
        "cluster_list = list(range(2, 10))\n",
        "\n",
        "# Iterate over each number of clusters\n",
        "for n_clusters in cluster_list:\n",
        "    # Initialize KMeans algorithm with the current number of clusters\n",
        "    clusterer = KMeans(n_clusters=n_clusters)\n",
        "\n",
        "    # Predict cluster labels for the data\n",
        "    preds = clusterer.fit_predict(num_data)\n",
        "\n",
        "    # Calculate silhouette score for the current number of clusters\n",
        "    score = silhouette_score(num_data, preds)\n",
        "\n",
        "    # Append the silhouette score to the list\n",
        "    sil_score.append(score)\n",
        "\n",
        "    # Print the silhouette score for the current number of clusters\n",
        "    print(\"For n_clusters = {}, silhouette score is {}\".format(n_clusters, score))\n",
        "\n",
        "# Plotting silhouette scores against the number of clusters\n",
        "plt.plot(cluster_list, sil_score)\n"
      ]
    },
    {
      "cell_type": "markdown",
      "metadata": {
        "id": "G5Au-Wb7mFp9"
      },
      "source": [
        "**From the silhouette scores, it seems that 8 is a good value of k.Let's do deeper investigation for different K values using  SilhouetteVisualizer**"
      ]
    },
    {
      "cell_type": "markdown",
      "metadata": {
        "id": "xwNF_83amFp-"
      },
      "source": [
        "### How to interpret the results of SilhouetteVisualizer?"
      ]
    },
    {
      "cell_type": "markdown",
      "metadata": {
        "id": "7gUwWue4mFp-"
      },
      "source": [
        "Below are the points that every cluster needs to satisfy for selecting the optimal K-value.\n",
        "  - There should be no negative silhouette coefficent value\n",
        "  - All the clusters should cross the avg silhouette score\n",
        "  - All the clusters should have the different variations (width)\n",
        "  - All the clusters should have different silhouette score\n",
        "\n",
        "**Note**\n",
        "1. Width of each cluster refers to the size of each cluster. (Number of data points present in each cluster)\n",
        "2. Horizontal line refers to the Silhouette score of each cluster.\n",
        "3. Dotted red line is an Average Silhouette score.\n",
        "\n",
        "\n",
        "- The silhouette score is highest for 8 clusters, which is 0.4555.\n",
        "\n",
        "- The silhouette scores for 3 clusters (0.4288) and 7 clusters (0.4213) are also relatively high."
      ]
    },
    {
      "cell_type": "markdown",
      "metadata": {
        "id": "jmxumKc3mFqC"
      },
      "source": [
        "### Applying KMeans clustering for k=3"
      ]
    },
    {
      "cell_type": "code",
      "execution_count": null,
      "metadata": {
        "colab": {
          "base_uri": "https://localhost:8080/",
          "height": 129
        },
        "id": "-xZJ1qh1mFqC",
        "outputId": "2c13a9f4-7390-475e-bf99-73dd90af2ed7"
      },
      "outputs": [
        {
          "output_type": "stream",
          "name": "stderr",
          "text": [
            "/usr/local/lib/python3.10/dist-packages/sklearn/cluster/_kmeans.py:870: FutureWarning: The default value of `n_init` will change from 10 to 'auto' in 1.4. Set the value of `n_init` explicitly to suppress the warning\n",
            "  warnings.warn(\n"
          ]
        },
        {
          "output_type": "execute_result",
          "data": {
            "text/plain": [
              "KMeans(n_clusters=3, random_state=0)"
            ],
            "text/html": [
              "<style>#sk-container-id-1 {color: black;background-color: white;}#sk-container-id-1 pre{padding: 0;}#sk-container-id-1 div.sk-toggleable {background-color: white;}#sk-container-id-1 label.sk-toggleable__label {cursor: pointer;display: block;width: 100%;margin-bottom: 0;padding: 0.3em;box-sizing: border-box;text-align: center;}#sk-container-id-1 label.sk-toggleable__label-arrow:before {content: \"▸\";float: left;margin-right: 0.25em;color: #696969;}#sk-container-id-1 label.sk-toggleable__label-arrow:hover:before {color: black;}#sk-container-id-1 div.sk-estimator:hover label.sk-toggleable__label-arrow:before {color: black;}#sk-container-id-1 div.sk-toggleable__content {max-height: 0;max-width: 0;overflow: hidden;text-align: left;background-color: #f0f8ff;}#sk-container-id-1 div.sk-toggleable__content pre {margin: 0.2em;color: black;border-radius: 0.25em;background-color: #f0f8ff;}#sk-container-id-1 input.sk-toggleable__control:checked~div.sk-toggleable__content {max-height: 200px;max-width: 100%;overflow: auto;}#sk-container-id-1 input.sk-toggleable__control:checked~label.sk-toggleable__label-arrow:before {content: \"▾\";}#sk-container-id-1 div.sk-estimator input.sk-toggleable__control:checked~label.sk-toggleable__label {background-color: #d4ebff;}#sk-container-id-1 div.sk-label input.sk-toggleable__control:checked~label.sk-toggleable__label {background-color: #d4ebff;}#sk-container-id-1 input.sk-hidden--visually {border: 0;clip: rect(1px 1px 1px 1px);clip: rect(1px, 1px, 1px, 1px);height: 1px;margin: -1px;overflow: hidden;padding: 0;position: absolute;width: 1px;}#sk-container-id-1 div.sk-estimator {font-family: monospace;background-color: #f0f8ff;border: 1px dotted black;border-radius: 0.25em;box-sizing: border-box;margin-bottom: 0.5em;}#sk-container-id-1 div.sk-estimator:hover {background-color: #d4ebff;}#sk-container-id-1 div.sk-parallel-item::after {content: \"\";width: 100%;border-bottom: 1px solid gray;flex-grow: 1;}#sk-container-id-1 div.sk-label:hover label.sk-toggleable__label {background-color: #d4ebff;}#sk-container-id-1 div.sk-serial::before {content: \"\";position: absolute;border-left: 1px solid gray;box-sizing: border-box;top: 0;bottom: 0;left: 50%;z-index: 0;}#sk-container-id-1 div.sk-serial {display: flex;flex-direction: column;align-items: center;background-color: white;padding-right: 0.2em;padding-left: 0.2em;position: relative;}#sk-container-id-1 div.sk-item {position: relative;z-index: 1;}#sk-container-id-1 div.sk-parallel {display: flex;align-items: stretch;justify-content: center;background-color: white;position: relative;}#sk-container-id-1 div.sk-item::before, #sk-container-id-1 div.sk-parallel-item::before {content: \"\";position: absolute;border-left: 1px solid gray;box-sizing: border-box;top: 0;bottom: 0;left: 50%;z-index: -1;}#sk-container-id-1 div.sk-parallel-item {display: flex;flex-direction: column;z-index: 1;position: relative;background-color: white;}#sk-container-id-1 div.sk-parallel-item:first-child::after {align-self: flex-end;width: 50%;}#sk-container-id-1 div.sk-parallel-item:last-child::after {align-self: flex-start;width: 50%;}#sk-container-id-1 div.sk-parallel-item:only-child::after {width: 0;}#sk-container-id-1 div.sk-dashed-wrapped {border: 1px dashed gray;margin: 0 0.4em 0.5em 0.4em;box-sizing: border-box;padding-bottom: 0.4em;background-color: white;}#sk-container-id-1 div.sk-label label {font-family: monospace;font-weight: bold;display: inline-block;line-height: 1.2em;}#sk-container-id-1 div.sk-label-container {text-align: center;}#sk-container-id-1 div.sk-container {/* jupyter's `normalize.less` sets `[hidden] { display: none; }` but bootstrap.min.css set `[hidden] { display: none !important; }` so we also need the `!important` here to be able to override the default hidden behavior on the sphinx rendered scikit-learn.org. See: https://github.com/scikit-learn/scikit-learn/issues/21755 */display: inline-block !important;position: relative;}#sk-container-id-1 div.sk-text-repr-fallback {display: none;}</style><div id=\"sk-container-id-1\" class=\"sk-top-container\"><div class=\"sk-text-repr-fallback\"><pre>KMeans(n_clusters=3, random_state=0)</pre><b>In a Jupyter environment, please rerun this cell to show the HTML representation or trust the notebook. <br />On GitHub, the HTML representation is unable to render, please try loading this page with nbviewer.org.</b></div><div class=\"sk-container\" hidden><div class=\"sk-item\"><div class=\"sk-estimator sk-toggleable\"><input class=\"sk-toggleable__control sk-hidden--visually\" id=\"sk-estimator-id-1\" type=\"checkbox\" checked><label for=\"sk-estimator-id-1\" class=\"sk-toggleable__label sk-toggleable__label-arrow\">KMeans</label><div class=\"sk-toggleable__content\"><pre>KMeans(n_clusters=3, random_state=0)</pre></div></div></div></div></div>"
            ]
          },
          "metadata": {},
          "execution_count": 38
        }
      ],
      "source": [
        "# Initialize KMeans algorithm with 3 clusters and a fixed random state\n",
        "kmeans3 = KMeans(n_clusters=3, random_state=0)\n",
        "\n",
        "# Fit KMeans to the data\n",
        "kmeans3.fit(num_data)\n"
      ]
    },
    {
      "cell_type": "code",
      "execution_count": null,
      "metadata": {
        "colab": {
          "base_uri": "https://localhost:8080/"
        },
        "id": "aXSCYbjs-4Fj",
        "outputId": "97cd202d-ea37-43e6-9cae-08dd1ead69c2"
      },
      "outputs": [
        {
          "output_type": "execute_result",
          "data": {
            "text/plain": [
              "array([1, 1, 1, 1, 1, 1, 2, 1, 1, 1, 1, 1, 2, 1, 2, 2, 2, 1, 1, 1, 2, 2,\n",
              "       2, 0, 0, 1], dtype=int32)"
            ]
          },
          "metadata": {},
          "execution_count": 39
        }
      ],
      "source": [
        "# Access the cluster labels assigned by KMeans to each data point\n",
        "kmeans3.labels_\n"
      ]
    },
    {
      "cell_type": "markdown",
      "source": [
        "### Another way of determining the cluster lebles"
      ],
      "metadata": {
        "id": "JRXc2zFSQ7C6"
      }
    },
    {
      "cell_type": "code",
      "source": [
        "# label3 = kmeans3.predict(num_data)  == kmeans3.labels_\n",
        "label3 = kmeans3.predict(num_data)\n",
        "label3"
      ],
      "metadata": {
        "colab": {
          "base_uri": "https://localhost:8080/"
        },
        "id": "8JxgmLj7bW0q",
        "outputId": "55ed1aab-8962-47c8-9d7e-804d08b87520"
      },
      "execution_count": null,
      "outputs": [
        {
          "output_type": "execute_result",
          "data": {
            "text/plain": [
              "array([1, 1, 1, 1, 1, 1, 2, 1, 1, 1, 1, 1, 2, 1, 2, 2, 2, 1, 1, 1, 2, 2,\n",
              "       2, 0, 0, 1], dtype=int32)"
            ]
          },
          "metadata": {},
          "execution_count": 41
        }
      ]
    },
    {
      "cell_type": "markdown",
      "source": [
        "- These cluster labels can be used to analyze and interpret the clustering results, such as understanding the characteristics of each cluster or visualizing the data points grouped by cluster"
      ],
      "metadata": {
        "id": "1WAzI0baQ38h"
      }
    },
    {
      "cell_type": "code",
      "source": [
        "# to check the number of groups\n",
        "np.unique(kmeans3.labels_)"
      ],
      "metadata": {
        "colab": {
          "base_uri": "https://localhost:8080/"
        },
        "id": "8vB_pwjvjHNg",
        "outputId": "12399777-9a15-4054-eecd-a0177cbbfe3c"
      },
      "execution_count": null,
      "outputs": [
        {
          "output_type": "execute_result",
          "data": {
            "text/plain": [
              "array([0, 1, 2], dtype=int32)"
            ]
          },
          "metadata": {},
          "execution_count": 44
        }
      ]
    },
    {
      "cell_type": "code",
      "execution_count": null,
      "metadata": {
        "id": "lB07lXmvmFqD"
      },
      "outputs": [],
      "source": [
        "# adding kmeans cluster labels to the original dataframe\n",
        "num_data[\"Kmeans_clusters\"] = kmeans3.labels_"
      ]
    },
    {
      "cell_type": "code",
      "execution_count": null,
      "metadata": {
        "colab": {
          "base_uri": "https://localhost:8080/",
          "height": 334
        },
        "outputId": "b83865c1-772b-47da-aace-492d16c4ebbc",
        "id": "95Rit7tOR39z"
      },
      "outputs": [
        {
          "output_type": "display_data",
          "data": {
            "text/plain": [
              "<Figure size 1600x600 with 4 Axes>"
            ],
            "image/png": "[encoded data removed]"
          },
          "metadata": {}
        }
      ],
      "source": [
        "\"\"\"\n",
        "select axis (ax=axes[ii])\n",
        "select the list (num_col) of the features by passing the counter 'num_col[counte]'\n",
        "and use the selecet the data set corresponind to feature 'num_data[num_col[counter]'\n",
        " and plot againt the cluster\n",
        "\"\"\"\n",
        "fig, axes = plt.subplots(1, 4, figsize=(16, 6))\n",
        "fig.suptitle(\"Boxplot of numerical variables for each cluster\")\n",
        "counter = 0\n",
        "for ii in range(4): # 4 corresponding to the number of feature in our data\n",
        "    sns.boxplot(ax=axes[ii], y=num_data[num_col[counter]], x=num_data[\"Kmeans_clusters\"])\n",
        "    counter = counter + 1\n",
        "\n",
        "fig.tight_layout(pad=2.0)# is to make sure the label or features does not overlap"
      ]
    },
    {
      "cell_type": "code",
      "source": [
        "# Group the data by K-means clusters and calculate the mean of each feature\n",
        "grouped_means = num_data.groupby(\"Kmeans_clusters\").mean()\n",
        "\n",
        "# Plot the mean values for each feature grouped by K-means clusters\n",
        "grouped_means.plot.bar(figsize=(15, 6))\n",
        "plt.title(\"Mean of features grouped by K-means segments\")\n",
        "plt.xlabel(\"K-means segments\")\n",
        "plt.ylabel(\"Mean value\")\n",
        "plt.xticks(rotation=0)  # Rotate x-axis labels if needed\n",
        "plt.show()\n"
      ],
      "metadata": {
        "colab": {
          "base_uri": "https://localhost:8080/",
          "height": 562
        },
        "id": "bVjawgrdS114",
        "outputId": "d64b94cf-3926-43f7-9408-ac20e20ef53a"
      },
      "execution_count": null,
      "outputs": [
        {
          "output_type": "display_data",
          "data": {
            "text/plain": [
              "<Figure size 1500x600 with 1 Axes>"
            ],
            "image/png": "[encoded data removed]"
          },
          "metadata": {}
        }
      ]
    },
    {
      "cell_type": "markdown",
      "metadata": {
        "id": "li88mm8d-Bmo"
      },
      "source": [
        "### Insights"
      ]
    },
    {
      "cell_type": "markdown",
      "metadata": {
        "id": "CMuAOn-AmFqH"
      },
      "source": [
        "- **Cluster 0**:\n",
        "    - Teaching ratings are low.\n",
        "    - Fees range from low to moderate for colleges in this cluster.\n",
        "    - Placement and ratings are very low.\n",
        "    - Infrastructure ratings are low  to moderate.\n",
        "\n",
        "\n",
        "- **Cluster 1**:\n",
        "    - Teaching ratings is high.\n",
        "    - Fees ratings for colleges in this cluster are high.\n",
        "    - Placement ratings are high.\n",
        "    - Infrastructure ratings are high.\n",
        "\n",
        "\n",
        "\n",
        "\n",
        "- **Cluster 2**:\n",
        "    - Teaching ratings are moderate to high.\n",
        "    - Fees ratings for colleges in this cluster are moderate.\n",
        "    - Placement ratings are moderate.\n",
        "    - Infrastructure ratings are moderate."
      ]
    },
    {
      "cell_type": "markdown",
      "metadata": {
        "id": "8yp5gxYv-GGL"
      },
      "source": [
        "### Business Recommendations"
      ]
    },
    {
      "cell_type": "code",
      "source": [],
      "metadata": {
        "id": "ehnDSRJARRb1"
      },
      "execution_count": null,
      "outputs": []
    },
    {
      "cell_type": "code",
      "source": [],
      "metadata": {
        "id": "ab5deUBvRREw"
      },
      "execution_count": null,
      "outputs": []
    },
    {
      "cell_type": "markdown",
      "metadata": {
        "id": "E318YmOVmFqH"
      },
      "source": [
        "- **Cluster 0**: These are Tier 3 colleges with low fees and very poor infrastructure, but they do not offer proper value-for-money in terms of teaching and placements. **Colleges in this cluster need to significantly invest in their teaching, concentrate more on onboarding better faculty, and secure tie-ups with corporates to improve placement opportunities.**\n",
        "\n",
        "\n",
        "- **Cluster 1**: These are Tier 1 colleges with excellent teaching, infrastructure, and placements while maintaining high fees. **Corporates looking for the best candidates can approach this cluster for placements.**\n",
        "\n",
        "\n",
        "- **Cluster 2**: These are Tier 2 colleges with decent teaching, infrastructure, and placement while maintaining a relatively moderate fee. **These colleges will need some investment in their teaching and infrastructure, which will help propel them to Tier 1 status.**\n"
      ]
    }
  ],
  "metadata": {
    "colab": {
      "provenance": []
    },
    "kernelspec": {
      "display_name": "Python 3",
      "language": "python",
      "name": "python3"
    },
    "language_info": {
      "codemirror_mode": {
        "name": "ipython",
        "version": 3
      },
      "file_extension": ".py",
      "mimetype": "text/x-python",
      "name": "python",
      "nbconvert_exporter": "python",
      "pygments_lexer": "ipython3",
      "version": "3.9.13"
    }
  },
  "nbformat": 4,
  "nbformat_minor": 0
}